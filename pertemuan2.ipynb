{
 "cells": [
  {
   "cell_type": "markdown",
   "metadata": {},
   "source": [
    "# Melakukan import package\n",
    "\n",
    "Package digunakan untuk membantu dalam proses development. Terdapat 6 package yang digunakan dalam notebook ini yaitu pandas, pylab, numpy, scipy, scikit-learn dan matplotlib. Berikut merupakan tujuan penggunaannya masing-masing:\n",
    "\n",
    "1. pandas untuk data analisis\n",
    "2. pylab untuk melakukan plotting\n",
    "3. numpy untuk numerical computing\n",
    "4. scipy untuk perhitungan matematika\n",
    "5. scikit-learn atau sklearn untuk machine learning \n",
    "6. matplotlib untuk visualisasi data"
   ]
  },
  {
   "cell_type": "code",
   "execution_count": 1,
   "metadata": {},
   "outputs": [],
   "source": [
    "%matplotlib inline\n",
    "import pandas as pd\n",
    "import pylab as pl\n",
    "import numpy as np\n",
    "import scipy.optimize as opt\n",
    "from sklearn import preprocessing\n",
    "from sklearn.model_selection import train_test_split\n",
    "import matplotlib.pyplot as plt"
   ]
  },
  {
   "cell_type": "markdown",
   "metadata": {},
   "source": [
    "# Melakukan Read File\n",
    "\n",
    "Pada package pandas menyediakan beberapa fungsi untuk dapat melakukan pembacaan file dengan menyesuaikan tipe file yang akan dibaca. Dikarenakan file yang dibaca adalah bertipe CSV, maka dapat menggunakan fungsi read_csv untuk melakukan pembacaan file. Parameter yang dimasukan kedalam fungsi tersebut adalah path direktori dari file tersebut dengan diikuti ekstensi file nya.\n",
    "\n",
    "File yang sudah dibaca, oleh pandas akan diubah menjadi dataframe. Singkatnya dataframe merupakan struktur data 2 dimensi yang terdiri dari row dan column yang bersifat fleksibel (dapat dimodifikasi)"
   ]
  },
  {
   "cell_type": "code",
   "execution_count": 2,
   "metadata": {},
   "outputs": [],
   "source": [
    "cell_df = pd.read_csv(\"cell_samples.csv\")"
   ]
  },
  {
   "cell_type": "markdown",
   "metadata": {},
   "source": [
    "# Menampilkan Data\n",
    "\n",
    "Setelah melakukan pembacaan file dan mengubah file tersebut menjadi dataframe, maka selanjutnya adalah menampilkan data nya. Tujuan dari menampilkan data adalah untuk mengetahui data yang akan dianalisis itu seperti apa.\n",
    "\n",
    "Untuk dapat menampilkan data maka dapat menggunakan fungsi head. Fungsi head berfungsi untuk menampilkan 5 baris data pertama,  dengan catatan apabila tidak memasukan secara spesifik baris data yang ingin ditampilkan."
   ]
  },
  {
   "cell_type": "code",
   "execution_count": 3,
   "metadata": {},
   "outputs": [
    {
     "data": {
      "text/html": [
       "<div>\n",
       "<style scoped>\n",
       "    .dataframe tbody tr th:only-of-type {\n",
       "        vertical-align: middle;\n",
       "    }\n",
       "\n",
       "    .dataframe tbody tr th {\n",
       "        vertical-align: top;\n",
       "    }\n",
       "\n",
       "    .dataframe thead th {\n",
       "        text-align: right;\n",
       "    }\n",
       "</style>\n",
       "<table border=\"1\" class=\"dataframe\">\n",
       "  <thead>\n",
       "    <tr style=\"text-align: right;\">\n",
       "      <th></th>\n",
       "      <th>ID</th>\n",
       "      <th>Clump</th>\n",
       "      <th>UnifSize</th>\n",
       "      <th>UnifShape</th>\n",
       "      <th>MargAdh</th>\n",
       "      <th>SingEpiSize</th>\n",
       "      <th>BareNuc</th>\n",
       "      <th>BlandChrom</th>\n",
       "      <th>NormNucl</th>\n",
       "      <th>Mit</th>\n",
       "      <th>Class</th>\n",
       "    </tr>\n",
       "  </thead>\n",
       "  <tbody>\n",
       "    <tr>\n",
       "      <th>0</th>\n",
       "      <td>1000025</td>\n",
       "      <td>5</td>\n",
       "      <td>1</td>\n",
       "      <td>1</td>\n",
       "      <td>1</td>\n",
       "      <td>2</td>\n",
       "      <td>1</td>\n",
       "      <td>3</td>\n",
       "      <td>1</td>\n",
       "      <td>1</td>\n",
       "      <td>2</td>\n",
       "    </tr>\n",
       "    <tr>\n",
       "      <th>1</th>\n",
       "      <td>1002945</td>\n",
       "      <td>5</td>\n",
       "      <td>4</td>\n",
       "      <td>4</td>\n",
       "      <td>5</td>\n",
       "      <td>7</td>\n",
       "      <td>10</td>\n",
       "      <td>3</td>\n",
       "      <td>2</td>\n",
       "      <td>1</td>\n",
       "      <td>2</td>\n",
       "    </tr>\n",
       "    <tr>\n",
       "      <th>2</th>\n",
       "      <td>1015425</td>\n",
       "      <td>3</td>\n",
       "      <td>1</td>\n",
       "      <td>1</td>\n",
       "      <td>1</td>\n",
       "      <td>2</td>\n",
       "      <td>2</td>\n",
       "      <td>3</td>\n",
       "      <td>1</td>\n",
       "      <td>1</td>\n",
       "      <td>2</td>\n",
       "    </tr>\n",
       "    <tr>\n",
       "      <th>3</th>\n",
       "      <td>1016277</td>\n",
       "      <td>6</td>\n",
       "      <td>8</td>\n",
       "      <td>8</td>\n",
       "      <td>1</td>\n",
       "      <td>3</td>\n",
       "      <td>4</td>\n",
       "      <td>3</td>\n",
       "      <td>7</td>\n",
       "      <td>1</td>\n",
       "      <td>2</td>\n",
       "    </tr>\n",
       "    <tr>\n",
       "      <th>4</th>\n",
       "      <td>1017023</td>\n",
       "      <td>4</td>\n",
       "      <td>1</td>\n",
       "      <td>1</td>\n",
       "      <td>3</td>\n",
       "      <td>2</td>\n",
       "      <td>1</td>\n",
       "      <td>3</td>\n",
       "      <td>1</td>\n",
       "      <td>1</td>\n",
       "      <td>2</td>\n",
       "    </tr>\n",
       "  </tbody>\n",
       "</table>\n",
       "</div>"
      ],
      "text/plain": [
       "        ID  Clump  UnifSize  UnifShape  MargAdh  SingEpiSize BareNuc  \\\n",
       "0  1000025      5         1          1        1            2       1   \n",
       "1  1002945      5         4          4        5            7      10   \n",
       "2  1015425      3         1          1        1            2       2   \n",
       "3  1016277      6         8          8        1            3       4   \n",
       "4  1017023      4         1          1        3            2       1   \n",
       "\n",
       "   BlandChrom  NormNucl  Mit  Class  \n",
       "0           3         1    1      2  \n",
       "1           3         2    1      2  \n",
       "2           3         1    1      2  \n",
       "3           3         7    1      2  \n",
       "4           3         1    1      2  "
      ]
     },
     "execution_count": 3,
     "metadata": {},
     "output_type": "execute_result"
    }
   ],
   "source": [
    "cell_df.head()"
   ]
  },
  {
   "cell_type": "markdown",
   "metadata": {},
   "source": [
    "# Menampilkan Diagram Data\n",
    "\n",
    "## Label Malignant\n",
    "\n",
    "Untuk menampilkan diagram data sebelumnya perlu memilih terlebih dahulu data mana yang akan dibuatkan diagramnya. Untuk melakukan pemilihan data dapat melakukan pemilihan baris atau kolom tertentu pada dataframe. Pemilihan tersebut dapat menggunakan square bracket.\n",
    "\n",
    "```python\n",
    "cell_df[cell_df['Class'] == 4]\n",
    "```\n",
    "Kode tersebut berfungsi untuk mengembalikan semua baris data pada dataframe yang memiliki kolom Class bernilai 4 (malignant/tumor ganas)\n",
    "\n",
    "```python\n",
    "cell_df[cell_df['Class'] == 4][0:50]\n",
    "```\n",
    "Kode selanjutnya yaitu menentukan banyak baris yang ingin dikembalikan, dalam hal ini 50 baris saja yang akan dikembalikan\n",
    "\n",
    "Setelah melakukan pemilihan tersebut, selanjutnya adalah membuat diagram data menggunakan fungsi plot pada dataframe.\n",
    "\n",
    "```python\n",
    "plot(kind='scatter', x='Clump', y='UnifSize', color='DarkBlue', label='malignant')\n",
    "```\n",
    "Pada kode tersebut, diagram yang digunakan bertipe scatter dengan label di sumbu x yaitu Clump, dan di sumbu y yaitu UnifSize, dengan warna data point nya berwarna biru serta berlabel malignant"
   ]
  },
  {
   "cell_type": "code",
   "execution_count": 4,
   "metadata": {},
   "outputs": [
    {
     "data": {
      "image/png": "[encoded data removed]",
      "text/plain": [
       "<Figure size 432x288 with 1 Axes>"
      ]
     },
     "metadata": {
      "needs_background": "light"
     },
     "output_type": "display_data"
    }
   ],
   "source": [
    "ax = cell_df[cell_df['Class'] == 4][0:50].plot(kind='scatter', x='Clump', y='UnifSize', color='DarkBlue', label='malignant');"
   ]
  },
  {
   "cell_type": "markdown",
   "metadata": {},
   "source": [
    "Melihat apakah diagram sudah sesuai atau tidak"
   ]
  },
  {
   "cell_type": "code",
   "execution_count": 5,
   "metadata": {},
   "outputs": [
    {
     "data": {
      "text/plain": [
       "<AxesSubplot:xlabel='Clump', ylabel='UnifSize'>"
      ]
     },
     "execution_count": 5,
     "metadata": {},
     "output_type": "execute_result"
    }
   ],
   "source": [
    "ax"
   ]
  },
  {
   "cell_type": "code",
   "execution_count": 6,
   "metadata": {},
   "outputs": [],
   "source": [
    "ay = cell_df[cell_df['Class'] == 2][0:50].plot(kind='scatter', x='Clump', y='UnifSize', color='Yellow', label='benign', ax=ax);"
   ]
  },
  {
   "cell_type": "code",
   "execution_count": 7,
   "metadata": {},
   "outputs": [
    {
     "data": {
      "text/plain": [
       "<AxesSubplot:xlabel='Clump', ylabel='UnifSize'>"
      ]
     },
     "execution_count": 7,
     "metadata": {},
     "output_type": "execute_result"
    }
   ],
   "source": [
    "ay"
   ]
  },
  {
   "cell_type": "markdown",
   "metadata": {},
   "source": [
    "## Label Benign\n",
    "\n",
    "Mirip seperti sebelumnya, akan tetapi terdapat sedikit perbedaan \n",
    "\n",
    "```python\n",
    "cell_df[cell_df['Class'] == 2]\n",
    "```\n",
    "Perbedaan pertama yaitu baris data pada dataframe yang dipilih adalah yang memiliki kolom Class bernilai 2 (benign)\n",
    "\n",
    "```python\n",
    "plot(kind='scatter', x='Clump', y='UnifSize', color='Yellow', label='benign')\n",
    "```\n",
    "Lalu perbedaan kedua adalah parameter warna dan label yang masing bernilai kuning dan benign"
   ]
  },
  {
   "cell_type": "code",
   "execution_count": 8,
   "metadata": {},
   "outputs": [
    {
     "data": {
      "image/png": "[encoded data removed]",
      "text/plain": [
       "<Figure size 432x288 with 1 Axes>"
      ]
     },
     "metadata": {
      "needs_background": "light"
     },
     "output_type": "display_data"
    }
   ],
   "source": [
    "ay = cell_df[cell_df['Class'] == 2][0:50].plot(kind='scatter', x='Clump', y='UnifSize', color='Yellow', label='benign');"
   ]
  },
  {
   "cell_type": "markdown",
   "metadata": {},
   "source": [
    "# Melakukan Cek Tipe Data Tiap Kolom\n",
    "\n",
    "Dari 11 kolom yang ada, 10 diantaranya memiliki tipe data numerik atau lebih tepatnya bilangan bulat (int64). Akan tetapi terdapat 1 kolom yang tipe datanya adalah nominal (object). Jika dilihat menggunakan fungsi head sebelumnya, kolom tersebut memiliki data numerik akan tetapi dibaca oleh pandas bukan numerik."
   ]
  },
  {
   "cell_type": "code",
   "execution_count": 9,
   "metadata": {},
   "outputs": [
    {
     "data": {
      "text/plain": [
       "ID              int64\n",
       "Clump           int64\n",
       "UnifSize        int64\n",
       "UnifShape       int64\n",
       "MargAdh         int64\n",
       "SingEpiSize     int64\n",
       "BareNuc        object\n",
       "BlandChrom      int64\n",
       "NormNucl        int64\n",
       "Mit             int64\n",
       "Class           int64\n",
       "dtype: object"
      ]
     },
     "execution_count": 9,
     "metadata": {},
     "output_type": "execute_result"
    }
   ],
   "source": [
    "cell_df.dtypes"
   ]
  },
  {
   "cell_type": "markdown",
   "metadata": {},
   "source": [
    "# Mengubah Tipe Data\n",
    "\n",
    "Untuk melakukan penyeragaman tipe data, maka perlu mengubah tipe data yang bermasalah tersebut. Yang sebelumnya bertipe nominal (object) menjadi numerik (int32)"
   ]
  },
  {
   "cell_type": "code",
   "execution_count": 10,
   "metadata": {},
   "outputs": [
    {
     "data": {
      "text/plain": [
       "ID             int64\n",
       "Clump          int64\n",
       "UnifSize       int64\n",
       "UnifShape      int64\n",
       "MargAdh        int64\n",
       "SingEpiSize    int64\n",
       "BareNuc        int32\n",
       "BlandChrom     int64\n",
       "NormNucl       int64\n",
       "Mit            int64\n",
       "Class          int64\n",
       "dtype: object"
      ]
     },
     "execution_count": 10,
     "metadata": {},
     "output_type": "execute_result"
    }
   ],
   "source": [
    "cell_df = cell_df[pd.to_numeric(cell_df['BareNuc'], errors='coerce').notnull()]\n",
    "cell_df['BareNuc'] = cell_df['BareNuc'].astype('int')\n",
    "cell_df.dtypes"
   ]
  },
  {
   "cell_type": "markdown",
   "metadata": {},
   "source": [
    "# Menentukan Feature  \n",
    "\n",
    "Dalam membuat sebuah model klasifikasi, diperlukan pemilihan feature untuk untuk tahapan pembuatan modelnya. Dari 11 feature yang ada, 2 diantaranya yaitu ID dan Class tidak dipilih. Dikarenakan ID bukan feature yang dapat menentukan Class, dan Class sendiri merupakan output target atau hal yang ingin dilakukan prediksi. \n",
    "\n",
    "```python\n",
    "cell_df[['Clump', 'UnifSize', 'UnifShape', 'MargAdh', 'SingEpiSize', 'BareNuc', 'BlandChrom', 'NormNucl', 'Mit']]\n",
    "```\n",
    "Kode tersebut mengembalikan baris data sesuai dengan 9 feature yang sudah dipilih sebelumnya\n",
    "\n",
    "```python\n",
    "X = np.asarray(feature_df)\n",
    "```\n",
    "Setelah didapatkan baris data dengan 9 feature tersebut, selanjutnya adalah merubahnya menjadi array dengan menggunakan numpy dan menyimpannya kedalam variabel X. Variabel X merupakan baris data dengan feature yang telah dipilih sebelumnya."
   ]
  },
  {
   "cell_type": "code",
   "execution_count": 11,
   "metadata": {},
   "outputs": [
    {
     "data": {
      "text/plain": [
       "array([[ 5,  1,  1,  1,  2,  1,  3,  1,  1],\n",
       "       [ 5,  4,  4,  5,  7, 10,  3,  2,  1],\n",
       "       [ 3,  1,  1,  1,  2,  2,  3,  1,  1],\n",
       "       [ 6,  8,  8,  1,  3,  4,  3,  7,  1],\n",
       "       [ 4,  1,  1,  3,  2,  1,  3,  1,  1]], dtype=int64)"
      ]
     },
     "execution_count": 11,
     "metadata": {},
     "output_type": "execute_result"
    }
   ],
   "source": [
    "feature_df = cell_df[['Clump', 'UnifSize', 'UnifShape', 'MargAdh', 'SingEpiSize', 'BareNuc', 'BlandChrom', 'NormNucl', 'Mit']]\n",
    "X = np.asarray(feature_df)\n",
    "X[0:5]"
   ]
  },
  {
   "cell_type": "markdown",
   "metadata": {},
   "source": [
    "# Menentukan Output Target\n",
    "\n",
    "Output target merupakah hal yang ingin diprediksi, dalam hal ini adalah menentukan apakah tumor tersebut masuk kedalam jenis tumor ganas (malignant) atau jinak (benign). Output target dalam kasus ini adalah kolom Class.\n",
    "\n",
    "```python\n",
    "cell_df['Class'] = cell_df['Class'].astype('int')\n",
    "```\n",
    "Kode tersebut memastikan bahwa tipe data dari output target adalah numerik\n",
    "\n",
    "```python\n",
    "y = np.asarray(cell_df['Class'])\n",
    "```\n",
    "Baris data output target diubah menjadi array dan disimpan di variabel y. Maka dari itu variabel y merupakan variabel yang menyimpan baris data dari output target."
   ]
  },
  {
   "cell_type": "code",
   "execution_count": 12,
   "metadata": {},
   "outputs": [
    {
     "data": {
      "text/plain": [
       "array([2, 2, 2, 2, 2])"
      ]
     },
     "execution_count": 12,
     "metadata": {},
     "output_type": "execute_result"
    }
   ],
   "source": [
    "cell_df['Class'] = cell_df['Class'].astype('int')\n",
    "y = np.asarray(cell_df['Class'])\n",
    "y [0:5]"
   ]
  },
  {
   "cell_type": "markdown",
   "metadata": {},
   "source": [
    "# Membentuk Bagian Training dan Testing Model\n",
    "\n",
    "Untuk dapat membuat model klasifikasi ML diperlukan pembagian data untuk proses training dan proses testing. Proses training merupakan proses untuk membentuk model tersebut dengan menggunakan data training. Proses testing merupakan proses untuk mengetes bagaimana performa dari model tersebut ketika diberikan data yang sebelumnya belum pernah dilihat pada proses training, yaitu dengan menggunakan data testing.\n",
    "\n",
    "```python\n",
    "X_train, X_test, y_train, y_test = train_test_split( X, y, test_size=0.21, random_state=4)\n",
    "```\n",
    "X_train dan y_train akan digunakan untuk proses training, lalu untuk X_test digunakan sebagai data testing untuk prediksi. Hasil prediksi tersebut akan dibandingkan dengan y_test. Pembagian datanya yaitu untuk data testing sebesar 21% dari jumlah data yang ada."
   ]
  },
  {
   "cell_type": "code",
   "execution_count": 13,
   "metadata": {},
   "outputs": [
    {
     "name": "stdout",
     "output_type": "stream",
     "text": [
      "Train set: (539, 9) (539,)\n",
      "Test set: (144, 9) (144,)\n"
     ]
    }
   ],
   "source": [
    "X_train, X_test, y_train, y_test = train_test_split( X, y, test_size=0.21, random_state=4)\n",
    "print ('Train set:', X_train.shape,  y_train.shape)\n",
    "print ('Test set:', X_test.shape,  y_test.shape)"
   ]
  },
  {
   "cell_type": "markdown",
   "metadata": {},
   "source": [
    "# Import SVM\n",
    "\n",
    "Untuk dapat menggunakan algoritma SVM perlu melakukan import svm pada package sklearn terlebih dahulu. \n",
    "\n",
    "```python\n",
    "clf = svm.SVC(kernel='rbf')\n",
    "```\n",
    "Dalam membuat model SVM nya, salah satu parameter yang dapat dimasukan adalah kernel. By default kernel yang digunakan adalah rbf"
   ]
  },
  {
   "cell_type": "code",
   "execution_count": 14,
   "metadata": {},
   "outputs": [],
   "source": [
    "from sklearn import svm\n",
    "clf = svm.SVC(kernel='rbf')"
   ]
  },
  {
   "cell_type": "markdown",
   "metadata": {},
   "source": [
    "# Training Model\n",
    "\n",
    "Merupakan proses training model klasifikasi menggunakan svm. Dalam proses training diperlukan data training yaitu X_train dan y_train"
   ]
  },
  {
   "cell_type": "code",
   "execution_count": 15,
   "metadata": {},
   "outputs": [
    {
     "data": {
      "text/plain": [
       "SVC()"
      ]
     },
     "execution_count": 15,
     "metadata": {},
     "output_type": "execute_result"
    }
   ],
   "source": [
    "clf.fit(X_train, y_train) "
   ]
  },
  {
   "cell_type": "markdown",
   "metadata": {},
   "source": [
    "# Melakukan Prediksi\n",
    "\n",
    "Setelah melakukan proses training, selanjutnya adalah melakukan prediksi. Untuk melakukan prediksi perlu menggunakan data testing, data testing yang digunakan adalah X_test. Hasil dari prediksi tersebut selanjutnya akan disimpan didalam variabel yhat "
   ]
  },
  {
   "cell_type": "code",
   "execution_count": 16,
   "metadata": {},
   "outputs": [],
   "source": [
    "yhat = clf.predict(X_test)"
   ]
  },
  {
   "cell_type": "markdown",
   "metadata": {},
   "source": [
    "Menampilkan 5 data pertama dari hasil prediksi"
   ]
  },
  {
   "cell_type": "code",
   "execution_count": 17,
   "metadata": {},
   "outputs": [
    {
     "data": {
      "text/plain": [
       "array([2, 4, 2, 4, 2])"
      ]
     },
     "execution_count": 17,
     "metadata": {},
     "output_type": "execute_result"
    }
   ],
   "source": [
    "yhat[0:5]"
   ]
  },
  {
   "cell_type": "markdown",
   "metadata": {},
   "source": [
    "# Mengevaluasi Hasil Model\n",
    "\n",
    "Evaluasi hasil model diperlukan untuk mengetahui seberapa baik model yang telah dibuat. Secara sederhana hasil prediksi akan dibandingkan dengan hasil klasifikasi yang sesungguhnya. Maka dalam hal ini adalah variabel yhat akan dibandingkan dengan variabel y_test."
   ]
  },
  {
   "cell_type": "markdown",
   "metadata": {},
   "source": [
    "Membuat fungsi untuk menampilkan diagram confussion matrix"
   ]
  },
  {
   "cell_type": "code",
   "execution_count": 18,
   "metadata": {},
   "outputs": [],
   "source": [
    "import itertools\n",
    "\n",
    "def plot_confusion_matrix(cm, classes,\n",
    "                          normalize=False,\n",
    "                          title='Confusion matrix',\n",
    "                          cmap=plt.cm.Blues):\n",
    "    \"\"\"\n",
    "    This function prints and plots the confusion matrix.\n",
    "    Normalization can be applied by setting `normalize=True`.\n",
    "    \"\"\"\n",
    "    if normalize:\n",
    "        cm = cm.astype('float') / cm.sum(axis=1)[:, np.newaxis]\n",
    "        print(\"Normalized confusion matrix\")\n",
    "    else:\n",
    "        print('Confusion matrix, without normalization')\n",
    "\n",
    "    print(cm)\n",
    "\n",
    "    plt.imshow(cm, interpolation='nearest', cmap=cmap)\n",
    "    plt.title(title)\n",
    "    plt.colorbar()\n",
    "    tick_marks = np.arange(len(classes))\n",
    "    plt.xticks(tick_marks, classes, rotation=45)\n",
    "    plt.yticks(tick_marks, classes)\n",
    "\n",
    "    fmt = '.2f' if normalize else 'd'\n",
    "    thresh = cm.max() / 2.\n",
    "    for i, j in itertools.product(range(cm.shape[0]), range(cm.shape[1])):\n",
    "        plt.text(j, i, format(cm[i, j], fmt),\n",
    "                 horizontalalignment=\"center\",\n",
    "                 color=\"white\" if cm[i, j] > thresh else \"black\")\n",
    "\n",
    "    plt.tight_layout()\n",
    "    plt.ylabel('True label')\n",
    "    plt.xlabel('Predicted label')"
   ]
  },
  {
   "cell_type": "markdown",
   "metadata": {},
   "source": [
    "Melakukan import matriks evaluasi yaitu confusion matrix dan classification report"
   ]
  },
  {
   "cell_type": "code",
   "execution_count": 19,
   "metadata": {},
   "outputs": [],
   "source": [
    "from sklearn.metrics import confusion_matrix\n",
    "from sklearn.metrics import classification_report\n"
   ]
  },
  {
   "cell_type": "markdown",
   "metadata": {},
   "source": [
    "Membuat confusion matrix dengan membandingkan variabel yhat dengan y_test"
   ]
  },
  {
   "cell_type": "code",
   "execution_count": 20,
   "metadata": {},
   "outputs": [],
   "source": [
    "cnf_matrix = confusion_matrix(y_test, yhat, labels=[2,4])"
   ]
  },
  {
   "cell_type": "markdown",
   "metadata": {},
   "source": [
    "Mengatur hasil print memiliki presisi 2 "
   ]
  },
  {
   "cell_type": "code",
   "execution_count": 21,
   "metadata": {},
   "outputs": [],
   "source": [
    "np.set_printoptions(precision=2)"
   ]
  },
  {
   "cell_type": "markdown",
   "metadata": {},
   "source": [
    "## Melihat Report Klasifikasi\n",
    "\n",
    "Terdapat 3 matriks yang ada yaitu precision, recall dan f1-score. Secara sederhana semakin tinggi nilai dari ketiga matriks tersebut, maka semakin baik juga hasil klasifikasinya.\n",
    "\n",
    "Dari report dibawah, dapat diketahui bahwa akurasi kumulatif yang didapatkan oleh model klasifikasinya yaitu bernilai 0.97. Dalam hal ini maka model klasifikasi yang telah dibuat memiliki hasil yang sangat memuaskan.\n",
    "\n",
    "Terakhir dapat diketahui juga bahwa untuk pembagian data testing masing-masing yaitu untuk label 2 (benign) berjumlah 94 data dan untuk label 4 (malignant) berjumlah 50 data. Jika dijumlahkan maka akan sesuai dengan pembagian data sebelumnya yaitu untuk data testing berjumlah 144 data. "
   ]
  },
  {
   "cell_type": "code",
   "execution_count": 22,
   "metadata": {},
   "outputs": [
    {
     "name": "stdout",
     "output_type": "stream",
     "text": [
      "              precision    recall  f1-score   support\n",
      "\n",
      "           2       1.00      0.95      0.97        94\n",
      "           4       0.91      1.00      0.95        50\n",
      "\n",
      "    accuracy                           0.97       144\n",
      "   macro avg       0.95      0.97      0.96       144\n",
      "weighted avg       0.97      0.97      0.97       144\n",
      "\n"
     ]
    }
   ],
   "source": [
    "print (classification_report(y_test, yhat))"
   ]
  },
  {
   "cell_type": "code",
   "execution_count": 23,
   "metadata": {},
   "outputs": [
    {
     "data": {
      "text/plain": [
       "<Figure size 432x288 with 0 Axes>"
      ]
     },
     "execution_count": 23,
     "metadata": {},
     "output_type": "execute_result"
    },
    {
     "data": {
      "text/plain": [
       "<Figure size 432x288 with 0 Axes>"
      ]
     },
     "metadata": {},
     "output_type": "display_data"
    }
   ],
   "source": [
    "plt.figure()"
   ]
  },
  {
   "cell_type": "markdown",
   "metadata": {},
   "source": [
    "## Melihat Confusion Matrix\n",
    "\n",
    "Confusion matrix merupakan alat ukur untuk mengukur performa dari model klasifikasi yang mana output targetnya berupa 2 label atau lebih. Dalam kasus ini terdapat 2 label yang diprediksi yaitu Benign dan Malignant. Cara kerja confusion matrix yaitu menghitung berapa nilai yang True Positive (TP), False Positive (FP), False Negative (FN) dan True Negative (TN).\n",
    "\n",
    "Hasilnya adalah untuk label prediksi malignant terklasifikasi benar ada 50 dan yg salah ada 5. Maksud klasifikasi yang salah dalam hal ini adalah terprediksi malignant akan tetapi aslinya adalah benign dengan jumlah yaitu 5.\n",
    "\n",
    "Sedangkan untuk label benign terkalsifikasi benar ada 89 dan tidak ada yg salah."
   ]
  },
  {
   "cell_type": "code",
   "execution_count": 24,
   "metadata": {},
   "outputs": [
    {
     "name": "stdout",
     "output_type": "stream",
     "text": [
      "Confusion matrix, without normalization\n",
      "[[89  5]\n",
      " [ 0 50]]\n"
     ]
    },
    {
     "data": {
      "image/png": "[encoded data removed]",
      "text/plain": [
       "<Figure size 432x288 with 2 Axes>"
      ]
     },
     "metadata": {
      "needs_background": "light"
     },
     "output_type": "display_data"
    }
   ],
   "source": [
    "plot_confusion_matrix(cnf_matrix, classes=['Benign(2)','Malignant(4)'],normalize= False,  title='Confusion matrix')"
   ]
  },
  {
   "cell_type": "markdown",
   "metadata": {},
   "source": [
    "Hasil f1-score"
   ]
  },
  {
   "cell_type": "code",
   "execution_count": 25,
   "metadata": {},
   "outputs": [
    {
     "data": {
      "text/plain": [
       "0.9656301500563796"
      ]
     },
     "execution_count": 25,
     "metadata": {},
     "output_type": "execute_result"
    }
   ],
   "source": [
    "from sklearn.metrics import f1_score\n",
    "f1_score(y_test, yhat, average='weighted')"
   ]
  },
  {
   "cell_type": "markdown",
   "metadata": {},
   "source": [
    "Hasil jacard score. Jacard score merupakan distance measure"
   ]
  },
  {
   "cell_type": "code",
   "execution_count": 26,
   "metadata": {},
   "outputs": [
    {
     "data": {
      "text/plain": [
       "0.9090909090909091"
      ]
     },
     "execution_count": 26,
     "metadata": {},
     "output_type": "execute_result"
    }
   ],
   "source": [
    "## awalnya pakai ini tapi ternyata versi lama\n",
    "# from sklearn.metrics import jaccard_similarity_score\n",
    "# jaccard_similarity_score(y_test, yhat)\n",
    "\n",
    "## sekarang pakai ini\n",
    "from sklearn.metrics import jaccard_score\n",
    "jaccard_score(y_test, yhat, pos_label=4)"
   ]
  }
 ],
 "metadata": {
  "kernelspec": {
   "display_name": "Python 3",
   "language": "python",
   "name": "python3"
  },
  "language_info": {
   "codemirror_mode": {
    "name": "ipython",
    "version": 3
   },
   "file_extension": ".py",
   "mimetype": "text/x-python",
   "name": "python",
   "nbconvert_exporter": "python",
   "pygments_lexer": "ipython3",
   "version": "3.8.5"
  }
 },
 "nbformat": 4,
 "nbformat_minor": 2
}
